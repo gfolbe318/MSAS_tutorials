{
 "cells": [
  {
   "cell_type": "code",
   "execution_count": 2,
   "metadata": {},
   "outputs": [],
   "source": [
    "import pandas as pd\n",
    "from bs4 import BeautifulSoup\n",
    "from urllib.request import urlopen"
   ]
  },
  {
   "cell_type": "code",
   "execution_count": 7,
   "metadata": {},
   "outputs": [],
   "source": [
    "link = \"https://www.pro-football-reference.com/years/2018/passing.htm\"\n",
    "soup = BeautifulSoup(urlopen(link), \"lxml\")\n",
    "table = soup.find('table')\n",
    "df = pd.read_html(str(table))[0]\n",
    "df = df.loc[~df[\"Age\"].isin([\"Age\"])]\n",
    "df = df.drop([\"QBrec\", \"TD%\", \"Int%\", \"Lng\", \"AY/A\", \"NY/A\", \"ANY/A\", \"Sk%\", \"4QC\", \"GWD\", \"Yds.1\"], axis=1)\n",
    "\n",
    "columns = []\n",
    "for column in df.columns:\n",
    "    if column != \"Tm\" and column != \"Player\" and column != \"Pos\":\n",
    "        columns.append(column)\n",
    "\n",
    "df[columns] = df[columns].apply(pd.to_numeric)\n",
    "\n",
    "df.to_excel(\"nfl_stats.xlsx\")"
   ]
  }
 ],
 "metadata": {
  "kernelspec": {
   "display_name": "Python 3",
   "language": "python",
   "name": "python3"
  },
  "language_info": {
   "codemirror_mode": {
    "name": "ipython",
    "version": 3
   },
   "file_extension": ".py",
   "mimetype": "text/x-python",
   "name": "python",
   "nbconvert_exporter": "python",
   "pygments_lexer": "ipython3",
   "version": "3.7.3"
  }
 },
 "nbformat": 4,
 "nbformat_minor": 2
}
